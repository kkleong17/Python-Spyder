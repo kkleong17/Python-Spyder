{
  "nbformat": 4,
  "nbformat_minor": 0,
  "metadata": {
    "colab": {
      "provenance": [],
      "collapsed_sections": [],
      "include_colab_link": true
    },
    "kernelspec": {
      "name": "python3",
      "display_name": "Python 3"
    },
    "language_info": {
      "name": "python"
    },
    "accelerator": "GPU",
    "widgets": {
      "application/vnd.jupyter.widget-state+json": {
        "d3099edbac064f098efbc6ed789b6683": {
          "model_module": "@jupyter-widgets/controls",
          "model_name": "HBoxModel",
          "model_module_version": "1.5.0",
          "state": {
            "_dom_classes": [],
            "_model_module": "@jupyter-widgets/controls",
            "_model_module_version": "1.5.0",
            "_model_name": "HBoxModel",
            "_view_count": null,
            "_view_module": "@jupyter-widgets/controls",
            "_view_module_version": "1.5.0",
            "_view_name": "HBoxView",
            "box_style": "",
            "children": [
              "IPY_MODEL_6120a7ea64214c90a445c2d814cbe85b",
              "IPY_MODEL_e8b8cb5a1efa4a229a9b6fa297e5dc84",
              "IPY_MODEL_274dd50acf64425db6baabe895fe98fa"
            ],
            "layout": "IPY_MODEL_7e178e5d4ae247499ef2267b8d369121"
          }
        },
        "6120a7ea64214c90a445c2d814cbe85b": {
          "model_module": "@jupyter-widgets/controls",
          "model_name": "HTMLModel",
          "model_module_version": "1.5.0",
          "state": {
            "_dom_classes": [],
            "_model_module": "@jupyter-widgets/controls",
            "_model_module_version": "1.5.0",
            "_model_name": "HTMLModel",
            "_view_count": null,
            "_view_module": "@jupyter-widgets/controls",
            "_view_module_version": "1.5.0",
            "_view_name": "HTMLView",
            "description": "",
            "description_tooltip": null,
            "layout": "IPY_MODEL_ad27de7ab2354c19b7f8344e9cec5e6e",
            "placeholder": "​",
            "style": "IPY_MODEL_005ab4eac07a4cc1a19f94fefbd737a6",
            "value": "Dl Completed...: 100%"
          }
        },
        "e8b8cb5a1efa4a229a9b6fa297e5dc84": {
          "model_module": "@jupyter-widgets/controls",
          "model_name": "FloatProgressModel",
          "model_module_version": "1.5.0",
          "state": {
            "_dom_classes": [],
            "_model_module": "@jupyter-widgets/controls",
            "_model_module_version": "1.5.0",
            "_model_name": "FloatProgressModel",
            "_view_count": null,
            "_view_module": "@jupyter-widgets/controls",
            "_view_module_version": "1.5.0",
            "_view_name": "ProgressView",
            "bar_style": "success",
            "description": "",
            "description_tooltip": null,
            "layout": "IPY_MODEL_3452a9102d3b4b7cbcd5738eef2e1d20",
            "max": 1,
            "min": 0,
            "orientation": "horizontal",
            "style": "IPY_MODEL_866350dd61504740a2b651ab9fbad7fc",
            "value": 1
          }
        },
        "274dd50acf64425db6baabe895fe98fa": {
          "model_module": "@jupyter-widgets/controls",
          "model_name": "HTMLModel",
          "model_module_version": "1.5.0",
          "state": {
            "_dom_classes": [],
            "_model_module": "@jupyter-widgets/controls",
            "_model_module_version": "1.5.0",
            "_model_name": "HTMLModel",
            "_view_count": null,
            "_view_module": "@jupyter-widgets/controls",
            "_view_module_version": "1.5.0",
            "_view_name": "HTMLView",
            "description": "",
            "description_tooltip": null,
            "layout": "IPY_MODEL_c43a1efdd23e47ab969fa58c26a23c72",
            "placeholder": "​",
            "style": "IPY_MODEL_a28d3560939846e3b54f788624b3ab7e",
            "value": " 1/1 [00:30&lt;00:00, 29.99s/ url]"
          }
        },
        "7e178e5d4ae247499ef2267b8d369121": {
          "model_module": "@jupyter-widgets/base",
          "model_name": "LayoutModel",
          "model_module_version": "1.2.0",
          "state": {
            "_model_module": "@jupyter-widgets/base",
            "_model_module_version": "1.2.0",
            "_model_name": "LayoutModel",
            "_view_count": null,
            "_view_module": "@jupyter-widgets/base",
            "_view_module_version": "1.2.0",
            "_view_name": "LayoutView",
            "align_content": null,
            "align_items": null,
            "align_self": null,
            "border": null,
            "bottom": null,
            "display": null,
            "flex": null,
            "flex_flow": null,
            "grid_area": null,
            "grid_auto_columns": null,
            "grid_auto_flow": null,
            "grid_auto_rows": null,
            "grid_column": null,
            "grid_gap": null,
            "grid_row": null,
            "grid_template_areas": null,
            "grid_template_columns": null,
            "grid_template_rows": null,
            "height": null,
            "justify_content": null,
            "justify_items": null,
            "left": null,
            "margin": null,
            "max_height": null,
            "max_width": null,
            "min_height": null,
            "min_width": null,
            "object_fit": null,
            "object_position": null,
            "order": null,
            "overflow": null,
            "overflow_x": null,
            "overflow_y": null,
            "padding": null,
            "right": null,
            "top": null,
            "visibility": null,
            "width": null
          }
        },
        "ad27de7ab2354c19b7f8344e9cec5e6e": {
          "model_module": "@jupyter-widgets/base",
          "model_name": "LayoutModel",
          "model_module_version": "1.2.0",
          "state": {
            "_model_module": "@jupyter-widgets/base",
            "_model_module_version": "1.2.0",
            "_model_name": "LayoutModel",
            "_view_count": null,
            "_view_module": "@jupyter-widgets/base",
            "_view_module_version": "1.2.0",
            "_view_name": "LayoutView",
            "align_content": null,
            "align_items": null,
            "align_self": null,
            "border": null,
            "bottom": null,
            "display": null,
            "flex": null,
            "flex_flow": null,
            "grid_area": null,
            "grid_auto_columns": null,
            "grid_auto_flow": null,
            "grid_auto_rows": null,
            "grid_column": null,
            "grid_gap": null,
            "grid_row": null,
            "grid_template_areas": null,
            "grid_template_columns": null,
            "grid_template_rows": null,
            "height": null,
            "justify_content": null,
            "justify_items": null,
            "left": null,
            "margin": null,
            "max_height": null,
            "max_width": null,
            "min_height": null,
            "min_width": null,
            "object_fit": null,
            "object_position": null,
            "order": null,
            "overflow": null,
            "overflow_x": null,
            "overflow_y": null,
            "padding": null,
            "right": null,
            "top": null,
            "visibility": null,
            "width": null
          }
        },
        "005ab4eac07a4cc1a19f94fefbd737a6": {
          "model_module": "@jupyter-widgets/controls",
          "model_name": "DescriptionStyleModel",
          "model_module_version": "1.5.0",
          "state": {
            "_model_module": "@jupyter-widgets/controls",
            "_model_module_version": "1.5.0",
            "_model_name": "DescriptionStyleModel",
            "_view_count": null,
            "_view_module": "@jupyter-widgets/base",
            "_view_module_version": "1.2.0",
            "_view_name": "StyleView",
            "description_width": ""
          }
        },
        "3452a9102d3b4b7cbcd5738eef2e1d20": {
          "model_module": "@jupyter-widgets/base",
          "model_name": "LayoutModel",
          "model_module_version": "1.2.0",
          "state": {
            "_model_module": "@jupyter-widgets/base",
            "_model_module_version": "1.2.0",
            "_model_name": "LayoutModel",
            "_view_count": null,
            "_view_module": "@jupyter-widgets/base",
            "_view_module_version": "1.2.0",
            "_view_name": "LayoutView",
            "align_content": null,
            "align_items": null,
            "align_self": null,
            "border": null,
            "bottom": null,
            "display": null,
            "flex": null,
            "flex_flow": null,
            "grid_area": null,
            "grid_auto_columns": null,
            "grid_auto_flow": null,
            "grid_auto_rows": null,
            "grid_column": null,
            "grid_gap": null,
            "grid_row": null,
            "grid_template_areas": null,
            "grid_template_columns": null,
            "grid_template_rows": null,
            "height": null,
            "justify_content": null,
            "justify_items": null,
            "left": null,
            "margin": null,
            "max_height": null,
            "max_width": null,
            "min_height": null,
            "min_width": null,
            "object_fit": null,
            "object_position": null,
            "order": null,
            "overflow": null,
            "overflow_x": null,
            "overflow_y": null,
            "padding": null,
            "right": null,
            "top": null,
            "visibility": null,
            "width": "20px"
          }
        },
        "866350dd61504740a2b651ab9fbad7fc": {
          "model_module": "@jupyter-widgets/controls",
          "model_name": "ProgressStyleModel",
          "model_module_version": "1.5.0",
          "state": {
            "_model_module": "@jupyter-widgets/controls",
            "_model_module_version": "1.5.0",
            "_model_name": "ProgressStyleModel",
            "_view_count": null,
            "_view_module": "@jupyter-widgets/base",
            "_view_module_version": "1.2.0",
            "_view_name": "StyleView",
            "bar_color": null,
            "description_width": ""
          }
        },
        "c43a1efdd23e47ab969fa58c26a23c72": {
          "model_module": "@jupyter-widgets/base",
          "model_name": "LayoutModel",
          "model_module_version": "1.2.0",
          "state": {
            "_model_module": "@jupyter-widgets/base",
            "_model_module_version": "1.2.0",
            "_model_name": "LayoutModel",
            "_view_count": null,
            "_view_module": "@jupyter-widgets/base",
            "_view_module_version": "1.2.0",
            "_view_name": "LayoutView",
            "align_content": null,
            "align_items": null,
            "align_self": null,
            "border": null,
            "bottom": null,
            "display": null,
            "flex": null,
            "flex_flow": null,
            "grid_area": null,
            "grid_auto_columns": null,
            "grid_auto_flow": null,
            "grid_auto_rows": null,
            "grid_column": null,
            "grid_gap": null,
            "grid_row": null,
            "grid_template_areas": null,
            "grid_template_columns": null,
            "grid_template_rows": null,
            "height": null,
            "justify_content": null,
            "justify_items": null,
            "left": null,
            "margin": null,
            "max_height": null,
            "max_width": null,
            "min_height": null,
            "min_width": null,
            "object_fit": null,
            "object_position": null,
            "order": null,
            "overflow": null,
            "overflow_x": null,
            "overflow_y": null,
            "padding": null,
            "right": null,
            "top": null,
            "visibility": null,
            "width": null
          }
        },
        "a28d3560939846e3b54f788624b3ab7e": {
          "model_module": "@jupyter-widgets/controls",
          "model_name": "DescriptionStyleModel",
          "model_module_version": "1.5.0",
          "state": {
            "_model_module": "@jupyter-widgets/controls",
            "_model_module_version": "1.5.0",
            "_model_name": "DescriptionStyleModel",
            "_view_count": null,
            "_view_module": "@jupyter-widgets/base",
            "_view_module_version": "1.2.0",
            "_view_name": "StyleView",
            "description_width": ""
          }
        },
        "88e43fe919b1470895f49ad00db89383": {
          "model_module": "@jupyter-widgets/controls",
          "model_name": "HBoxModel",
          "model_module_version": "1.5.0",
          "state": {
            "_dom_classes": [],
            "_model_module": "@jupyter-widgets/controls",
            "_model_module_version": "1.5.0",
            "_model_name": "HBoxModel",
            "_view_count": null,
            "_view_module": "@jupyter-widgets/controls",
            "_view_module_version": "1.5.0",
            "_view_name": "HBoxView",
            "box_style": "",
            "children": [
              "IPY_MODEL_0e18a9c05c1949a3a1184648f69e25ed",
              "IPY_MODEL_c3d48a5f36094f24a1193974050504a8",
              "IPY_MODEL_ca38ca476cf746b6bdf63b431647b0bf"
            ],
            "layout": "IPY_MODEL_841ffd5c35184f1d8e77b750a59b01b8"
          }
        },
        "0e18a9c05c1949a3a1184648f69e25ed": {
          "model_module": "@jupyter-widgets/controls",
          "model_name": "HTMLModel",
          "model_module_version": "1.5.0",
          "state": {
            "_dom_classes": [],
            "_model_module": "@jupyter-widgets/controls",
            "_model_module_version": "1.5.0",
            "_model_name": "HTMLModel",
            "_view_count": null,
            "_view_module": "@jupyter-widgets/controls",
            "_view_module_version": "1.5.0",
            "_view_name": "HTMLView",
            "description": "",
            "description_tooltip": null,
            "layout": "IPY_MODEL_ab2256413d8e49b0b67bb7b4228224ad",
            "placeholder": "​",
            "style": "IPY_MODEL_4430a66d033c46c486ceef91a0df55f9",
            "value": "Dl Size...: 100%"
          }
        },
        "c3d48a5f36094f24a1193974050504a8": {
          "model_module": "@jupyter-widgets/controls",
          "model_name": "FloatProgressModel",
          "model_module_version": "1.5.0",
          "state": {
            "_dom_classes": [],
            "_model_module": "@jupyter-widgets/controls",
            "_model_module_version": "1.5.0",
            "_model_name": "FloatProgressModel",
            "_view_count": null,
            "_view_module": "@jupyter-widgets/controls",
            "_view_module_version": "1.5.0",
            "_view_name": "ProgressView",
            "bar_style": "success",
            "description": "",
            "description_tooltip": null,
            "layout": "IPY_MODEL_0f3bb58af0c947b9ba5ca34c02673be3",
            "max": 1,
            "min": 0,
            "orientation": "horizontal",
            "style": "IPY_MODEL_9c81708db42f4745ae9626a41b7820af",
            "value": 1
          }
        },
        "ca38ca476cf746b6bdf63b431647b0bf": {
          "model_module": "@jupyter-widgets/controls",
          "model_name": "HTMLModel",
          "model_module_version": "1.5.0",
          "state": {
            "_dom_classes": [],
            "_model_module": "@jupyter-widgets/controls",
            "_model_module_version": "1.5.0",
            "_model_name": "HTMLModel",
            "_view_count": null,
            "_view_module": "@jupyter-widgets/controls",
            "_view_module_version": "1.5.0",
            "_view_name": "HTMLView",
            "description": "",
            "description_tooltip": null,
            "layout": "IPY_MODEL_a7331b4e99e540039fdd6e9c738d0daa",
            "placeholder": "​",
            "style": "IPY_MODEL_da365ce424734a40bd75ec61e6ba66d8",
            "value": " 786/786 [00:29&lt;00:00, 27.08 MiB/s]"
          }
        },
        "841ffd5c35184f1d8e77b750a59b01b8": {
          "model_module": "@jupyter-widgets/base",
          "model_name": "LayoutModel",
          "model_module_version": "1.2.0",
          "state": {
            "_model_module": "@jupyter-widgets/base",
            "_model_module_version": "1.2.0",
            "_model_name": "LayoutModel",
            "_view_count": null,
            "_view_module": "@jupyter-widgets/base",
            "_view_module_version": "1.2.0",
            "_view_name": "LayoutView",
            "align_content": null,
            "align_items": null,
            "align_self": null,
            "border": null,
            "bottom": null,
            "display": null,
            "flex": null,
            "flex_flow": null,
            "grid_area": null,
            "grid_auto_columns": null,
            "grid_auto_flow": null,
            "grid_auto_rows": null,
            "grid_column": null,
            "grid_gap": null,
            "grid_row": null,
            "grid_template_areas": null,
            "grid_template_columns": null,
            "grid_template_rows": null,
            "height": null,
            "justify_content": null,
            "justify_items": null,
            "left": null,
            "margin": null,
            "max_height": null,
            "max_width": null,
            "min_height": null,
            "min_width": null,
            "object_fit": null,
            "object_position": null,
            "order": null,
            "overflow": null,
            "overflow_x": null,
            "overflow_y": null,
            "padding": null,
            "right": null,
            "top": null,
            "visibility": null,
            "width": null
          }
        },
        "ab2256413d8e49b0b67bb7b4228224ad": {
          "model_module": "@jupyter-widgets/base",
          "model_name": "LayoutModel",
          "model_module_version": "1.2.0",
          "state": {
            "_model_module": "@jupyter-widgets/base",
            "_model_module_version": "1.2.0",
            "_model_name": "LayoutModel",
            "_view_count": null,
            "_view_module": "@jupyter-widgets/base",
            "_view_module_version": "1.2.0",
            "_view_name": "LayoutView",
            "align_content": null,
            "align_items": null,
            "align_self": null,
            "border": null,
            "bottom": null,
            "display": null,
            "flex": null,
            "flex_flow": null,
            "grid_area": null,
            "grid_auto_columns": null,
            "grid_auto_flow": null,
            "grid_auto_rows": null,
            "grid_column": null,
            "grid_gap": null,
            "grid_row": null,
            "grid_template_areas": null,
            "grid_template_columns": null,
            "grid_template_rows": null,
            "height": null,
            "justify_content": null,
            "justify_items": null,
            "left": null,
            "margin": null,
            "max_height": null,
            "max_width": null,
            "min_height": null,
            "min_width": null,
            "object_fit": null,
            "object_position": null,
            "order": null,
            "overflow": null,
            "overflow_x": null,
            "overflow_y": null,
            "padding": null,
            "right": null,
            "top": null,
            "visibility": null,
            "width": null
          }
        },
        "4430a66d033c46c486ceef91a0df55f9": {
          "model_module": "@jupyter-widgets/controls",
          "model_name": "DescriptionStyleModel",
          "model_module_version": "1.5.0",
          "state": {
            "_model_module": "@jupyter-widgets/controls",
            "_model_module_version": "1.5.0",
            "_model_name": "DescriptionStyleModel",
            "_view_count": null,
            "_view_module": "@jupyter-widgets/base",
            "_view_module_version": "1.2.0",
            "_view_name": "StyleView",
            "description_width": ""
          }
        },
        "0f3bb58af0c947b9ba5ca34c02673be3": {
          "model_module": "@jupyter-widgets/base",
          "model_name": "LayoutModel",
          "model_module_version": "1.2.0",
          "state": {
            "_model_module": "@jupyter-widgets/base",
            "_model_module_version": "1.2.0",
            "_model_name": "LayoutModel",
            "_view_count": null,
            "_view_module": "@jupyter-widgets/base",
            "_view_module_version": "1.2.0",
            "_view_name": "LayoutView",
            "align_content": null,
            "align_items": null,
            "align_self": null,
            "border": null,
            "bottom": null,
            "display": null,
            "flex": null,
            "flex_flow": null,
            "grid_area": null,
            "grid_auto_columns": null,
            "grid_auto_flow": null,
            "grid_auto_rows": null,
            "grid_column": null,
            "grid_gap": null,
            "grid_row": null,
            "grid_template_areas": null,
            "grid_template_columns": null,
            "grid_template_rows": null,
            "height": null,
            "justify_content": null,
            "justify_items": null,
            "left": null,
            "margin": null,
            "max_height": null,
            "max_width": null,
            "min_height": null,
            "min_width": null,
            "object_fit": null,
            "object_position": null,
            "order": null,
            "overflow": null,
            "overflow_x": null,
            "overflow_y": null,
            "padding": null,
            "right": null,
            "top": null,
            "visibility": null,
            "width": "20px"
          }
        },
        "9c81708db42f4745ae9626a41b7820af": {
          "model_module": "@jupyter-widgets/controls",
          "model_name": "ProgressStyleModel",
          "model_module_version": "1.5.0",
          "state": {
            "_model_module": "@jupyter-widgets/controls",
            "_model_module_version": "1.5.0",
            "_model_name": "ProgressStyleModel",
            "_view_count": null,
            "_view_module": "@jupyter-widgets/base",
            "_view_module_version": "1.2.0",
            "_view_name": "StyleView",
            "bar_color": null,
            "description_width": ""
          }
        },
        "a7331b4e99e540039fdd6e9c738d0daa": {
          "model_module": "@jupyter-widgets/base",
          "model_name": "LayoutModel",
          "model_module_version": "1.2.0",
          "state": {
            "_model_module": "@jupyter-widgets/base",
            "_model_module_version": "1.2.0",
            "_model_name": "LayoutModel",
            "_view_count": null,
            "_view_module": "@jupyter-widgets/base",
            "_view_module_version": "1.2.0",
            "_view_name": "LayoutView",
            "align_content": null,
            "align_items": null,
            "align_self": null,
            "border": null,
            "bottom": null,
            "display": null,
            "flex": null,
            "flex_flow": null,
            "grid_area": null,
            "grid_auto_columns": null,
            "grid_auto_flow": null,
            "grid_auto_rows": null,
            "grid_column": null,
            "grid_gap": null,
            "grid_row": null,
            "grid_template_areas": null,
            "grid_template_columns": null,
            "grid_template_rows": null,
            "height": null,
            "justify_content": null,
            "justify_items": null,
            "left": null,
            "margin": null,
            "max_height": null,
            "max_width": null,
            "min_height": null,
            "min_width": null,
            "object_fit": null,
            "object_position": null,
            "order": null,
            "overflow": null,
            "overflow_x": null,
            "overflow_y": null,
            "padding": null,
            "right": null,
            "top": null,
            "visibility": null,
            "width": null
          }
        },
        "da365ce424734a40bd75ec61e6ba66d8": {
          "model_module": "@jupyter-widgets/controls",
          "model_name": "DescriptionStyleModel",
          "model_module_version": "1.5.0",
          "state": {
            "_model_module": "@jupyter-widgets/controls",
            "_model_module_version": "1.5.0",
            "_model_name": "DescriptionStyleModel",
            "_view_count": null,
            "_view_module": "@jupyter-widgets/base",
            "_view_module_version": "1.2.0",
            "_view_name": "StyleView",
            "description_width": ""
          }
        },
        "717fa0591be34c77997d31301be267f9": {
          "model_module": "@jupyter-widgets/controls",
          "model_name": "HBoxModel",
          "model_module_version": "1.5.0",
          "state": {
            "_dom_classes": [],
            "_model_module": "@jupyter-widgets/controls",
            "_model_module_version": "1.5.0",
            "_model_name": "HBoxModel",
            "_view_count": null,
            "_view_module": "@jupyter-widgets/controls",
            "_view_module_version": "1.5.0",
            "_view_name": "HBoxView",
            "box_style": "",
            "children": [
              "IPY_MODEL_6cebde6931344aa2be2949199a8a0660",
              "IPY_MODEL_75d8eabf79214e92b8589b84fba4f173",
              "IPY_MODEL_e16cae5261d14679b9106a063d69dfb7"
            ],
            "layout": "IPY_MODEL_4d99c8fbee6b40de817b518bb5a1185f"
          }
        },
        "6cebde6931344aa2be2949199a8a0660": {
          "model_module": "@jupyter-widgets/controls",
          "model_name": "HTMLModel",
          "model_module_version": "1.5.0",
          "state": {
            "_dom_classes": [],
            "_model_module": "@jupyter-widgets/controls",
            "_model_module_version": "1.5.0",
            "_model_name": "HTMLModel",
            "_view_count": null,
            "_view_module": "@jupyter-widgets/controls",
            "_view_module_version": "1.5.0",
            "_view_name": "HTMLView",
            "description": "",
            "description_tooltip": null,
            "layout": "IPY_MODEL_b6e8950acbd3468c9a7660dd4b72cfd1",
            "placeholder": "​",
            "style": "IPY_MODEL_fdf51b22e8b14975bc1503a50e74f457",
            "value": ""
          }
        },
        "75d8eabf79214e92b8589b84fba4f173": {
          "model_module": "@jupyter-widgets/controls",
          "model_name": "FloatProgressModel",
          "model_module_version": "1.5.0",
          "state": {
            "_dom_classes": [],
            "_model_module": "@jupyter-widgets/controls",
            "_model_module_version": "1.5.0",
            "_model_name": "FloatProgressModel",
            "_view_count": null,
            "_view_module": "@jupyter-widgets/controls",
            "_view_module_version": "1.5.0",
            "_view_name": "ProgressView",
            "bar_style": "info",
            "description": "",
            "description_tooltip": null,
            "layout": "IPY_MODEL_6694d6aa6be946b6bd31dcb8f46845ca",
            "max": 1,
            "min": 0,
            "orientation": "horizontal",
            "style": "IPY_MODEL_901102e6a93645f890bbe780fa3b7703",
            "value": 1
          }
        },
        "e16cae5261d14679b9106a063d69dfb7": {
          "model_module": "@jupyter-widgets/controls",
          "model_name": "HTMLModel",
          "model_module_version": "1.5.0",
          "state": {
            "_dom_classes": [],
            "_model_module": "@jupyter-widgets/controls",
            "_model_module_version": "1.5.0",
            "_model_name": "HTMLModel",
            "_view_count": null,
            "_view_module": "@jupyter-widgets/controls",
            "_view_module_version": "1.5.0",
            "_view_name": "HTMLView",
            "description": "",
            "description_tooltip": null,
            "layout": "IPY_MODEL_0eae8fe0ca244fc785df59f6bfb96e35",
            "placeholder": "​",
            "style": "IPY_MODEL_89dd0c7eb56048f797104b0a8fe8d842",
            "value": " 23211/0 [00:20&lt;00:00, 1303.84 examples/s]"
          }
        },
        "4d99c8fbee6b40de817b518bb5a1185f": {
          "model_module": "@jupyter-widgets/base",
          "model_name": "LayoutModel",
          "model_module_version": "1.2.0",
          "state": {
            "_model_module": "@jupyter-widgets/base",
            "_model_module_version": "1.2.0",
            "_model_name": "LayoutModel",
            "_view_count": null,
            "_view_module": "@jupyter-widgets/base",
            "_view_module_version": "1.2.0",
            "_view_name": "LayoutView",
            "align_content": null,
            "align_items": null,
            "align_self": null,
            "border": null,
            "bottom": null,
            "display": null,
            "flex": null,
            "flex_flow": null,
            "grid_area": null,
            "grid_auto_columns": null,
            "grid_auto_flow": null,
            "grid_auto_rows": null,
            "grid_column": null,
            "grid_gap": null,
            "grid_row": null,
            "grid_template_areas": null,
            "grid_template_columns": null,
            "grid_template_rows": null,
            "height": null,
            "justify_content": null,
            "justify_items": null,
            "left": null,
            "margin": null,
            "max_height": null,
            "max_width": null,
            "min_height": null,
            "min_width": null,
            "object_fit": null,
            "object_position": null,
            "order": null,
            "overflow": null,
            "overflow_x": null,
            "overflow_y": null,
            "padding": null,
            "right": null,
            "top": null,
            "visibility": null,
            "width": null
          }
        },
        "b6e8950acbd3468c9a7660dd4b72cfd1": {
          "model_module": "@jupyter-widgets/base",
          "model_name": "LayoutModel",
          "model_module_version": "1.2.0",
          "state": {
            "_model_module": "@jupyter-widgets/base",
            "_model_module_version": "1.2.0",
            "_model_name": "LayoutModel",
            "_view_count": null,
            "_view_module": "@jupyter-widgets/base",
            "_view_module_version": "1.2.0",
            "_view_name": "LayoutView",
            "align_content": null,
            "align_items": null,
            "align_self": null,
            "border": null,
            "bottom": null,
            "display": null,
            "flex": null,
            "flex_flow": null,
            "grid_area": null,
            "grid_auto_columns": null,
            "grid_auto_flow": null,
            "grid_auto_rows": null,
            "grid_column": null,
            "grid_gap": null,
            "grid_row": null,
            "grid_template_areas": null,
            "grid_template_columns": null,
            "grid_template_rows": null,
            "height": null,
            "justify_content": null,
            "justify_items": null,
            "left": null,
            "margin": null,
            "max_height": null,
            "max_width": null,
            "min_height": null,
            "min_width": null,
            "object_fit": null,
            "object_position": null,
            "order": null,
            "overflow": null,
            "overflow_x": null,
            "overflow_y": null,
            "padding": null,
            "right": null,
            "top": null,
            "visibility": null,
            "width": null
          }
        },
        "fdf51b22e8b14975bc1503a50e74f457": {
          "model_module": "@jupyter-widgets/controls",
          "model_name": "DescriptionStyleModel",
          "model_module_version": "1.5.0",
          "state": {
            "_model_module": "@jupyter-widgets/controls",
            "_model_module_version": "1.5.0",
            "_model_name": "DescriptionStyleModel",
            "_view_count": null,
            "_view_module": "@jupyter-widgets/base",
            "_view_module_version": "1.2.0",
            "_view_name": "StyleView",
            "description_width": ""
          }
        },
        "6694d6aa6be946b6bd31dcb8f46845ca": {
          "model_module": "@jupyter-widgets/base",
          "model_name": "LayoutModel",
          "model_module_version": "1.2.0",
          "state": {
            "_model_module": "@jupyter-widgets/base",
            "_model_module_version": "1.2.0",
            "_model_name": "LayoutModel",
            "_view_count": null,
            "_view_module": "@jupyter-widgets/base",
            "_view_module_version": "1.2.0",
            "_view_name": "LayoutView",
            "align_content": null,
            "align_items": null,
            "align_self": null,
            "border": null,
            "bottom": null,
            "display": null,
            "flex": null,
            "flex_flow": null,
            "grid_area": null,
            "grid_auto_columns": null,
            "grid_auto_flow": null,
            "grid_auto_rows": null,
            "grid_column": null,
            "grid_gap": null,
            "grid_row": null,
            "grid_template_areas": null,
            "grid_template_columns": null,
            "grid_template_rows": null,
            "height": null,
            "justify_content": null,
            "justify_items": null,
            "left": null,
            "margin": null,
            "max_height": null,
            "max_width": null,
            "min_height": null,
            "min_width": null,
            "object_fit": null,
            "object_position": null,
            "order": null,
            "overflow": null,
            "overflow_x": null,
            "overflow_y": null,
            "padding": null,
            "right": null,
            "top": null,
            "visibility": null,
            "width": "20px"
          }
        },
        "901102e6a93645f890bbe780fa3b7703": {
          "model_module": "@jupyter-widgets/controls",
          "model_name": "ProgressStyleModel",
          "model_module_version": "1.5.0",
          "state": {
            "_model_module": "@jupyter-widgets/controls",
            "_model_module_version": "1.5.0",
            "_model_name": "ProgressStyleModel",
            "_view_count": null,
            "_view_module": "@jupyter-widgets/base",
            "_view_module_version": "1.2.0",
            "_view_name": "StyleView",
            "bar_color": null,
            "description_width": ""
          }
        },
        "0eae8fe0ca244fc785df59f6bfb96e35": {
          "model_module": "@jupyter-widgets/base",
          "model_name": "LayoutModel",
          "model_module_version": "1.2.0",
          "state": {
            "_model_module": "@jupyter-widgets/base",
            "_model_module_version": "1.2.0",
            "_model_name": "LayoutModel",
            "_view_count": null,
            "_view_module": "@jupyter-widgets/base",
            "_view_module_version": "1.2.0",
            "_view_name": "LayoutView",
            "align_content": null,
            "align_items": null,
            "align_self": null,
            "border": null,
            "bottom": null,
            "display": null,
            "flex": null,
            "flex_flow": null,
            "grid_area": null,
            "grid_auto_columns": null,
            "grid_auto_flow": null,
            "grid_auto_rows": null,
            "grid_column": null,
            "grid_gap": null,
            "grid_row": null,
            "grid_template_areas": null,
            "grid_template_columns": null,
            "grid_template_rows": null,
            "height": null,
            "justify_content": null,
            "justify_items": null,
            "left": null,
            "margin": null,
            "max_height": null,
            "max_width": null,
            "min_height": null,
            "min_width": null,
            "object_fit": null,
            "object_position": null,
            "order": null,
            "overflow": null,
            "overflow_x": null,
            "overflow_y": null,
            "padding": null,
            "right": null,
            "top": null,
            "visibility": null,
            "width": null
          }
        },
        "89dd0c7eb56048f797104b0a8fe8d842": {
          "model_module": "@jupyter-widgets/controls",
          "model_name": "DescriptionStyleModel",
          "model_module_version": "1.5.0",
          "state": {
            "_model_module": "@jupyter-widgets/controls",
            "_model_module_version": "1.5.0",
            "_model_name": "DescriptionStyleModel",
            "_view_count": null,
            "_view_module": "@jupyter-widgets/base",
            "_view_module_version": "1.2.0",
            "_view_name": "StyleView",
            "description_width": ""
          }
        },
        "d8e08f7aeb95466581e6d94a362f7ff8": {
          "model_module": "@jupyter-widgets/controls",
          "model_name": "HBoxModel",
          "model_module_version": "1.5.0",
          "state": {
            "_dom_classes": [],
            "_model_module": "@jupyter-widgets/controls",
            "_model_module_version": "1.5.0",
            "_model_name": "HBoxModel",
            "_view_count": null,
            "_view_module": "@jupyter-widgets/controls",
            "_view_module_version": "1.5.0",
            "_view_name": "HBoxView",
            "box_style": "",
            "children": [
              "IPY_MODEL_2545f615b4d9488386191f4de308eed3",
              "IPY_MODEL_1b2340600d1946c5957aa3824c788c6e",
              "IPY_MODEL_451ec9f55e9647c288cdbcb13d74d587"
            ],
            "layout": "IPY_MODEL_392fd66dc2e249ca91f0bfc94e73251c"
          }
        },
        "2545f615b4d9488386191f4de308eed3": {
          "model_module": "@jupyter-widgets/controls",
          "model_name": "HTMLModel",
          "model_module_version": "1.5.0",
          "state": {
            "_dom_classes": [],
            "_model_module": "@jupyter-widgets/controls",
            "_model_module_version": "1.5.0",
            "_model_name": "HTMLModel",
            "_view_count": null,
            "_view_module": "@jupyter-widgets/controls",
            "_view_module_version": "1.5.0",
            "_view_name": "HTMLView",
            "description": "",
            "description_tooltip": null,
            "layout": "IPY_MODEL_973d617212654461a56250e38d5dcd54",
            "placeholder": "​",
            "style": "IPY_MODEL_695d10ae63034271b41e4d0e77bd3176",
            "value": "100%"
          }
        },
        "1b2340600d1946c5957aa3824c788c6e": {
          "model_module": "@jupyter-widgets/controls",
          "model_name": "FloatProgressModel",
          "model_module_version": "1.5.0",
          "state": {
            "_dom_classes": [],
            "_model_module": "@jupyter-widgets/controls",
            "_model_module_version": "1.5.0",
            "_model_name": "FloatProgressModel",
            "_view_count": null,
            "_view_module": "@jupyter-widgets/controls",
            "_view_module_version": "1.5.0",
            "_view_name": "ProgressView",
            "bar_style": "danger",
            "description": "",
            "description_tooltip": null,
            "layout": "IPY_MODEL_22c8e65f3ad64697b61963e0c55d998a",
            "max": 23262,
            "min": 0,
            "orientation": "horizontal",
            "style": "IPY_MODEL_ac4f4bdbdfd648a5a0e4577036e68a40",
            "value": 23261
          }
        },
        "451ec9f55e9647c288cdbcb13d74d587": {
          "model_module": "@jupyter-widgets/controls",
          "model_name": "HTMLModel",
          "model_module_version": "1.5.0",
          "state": {
            "_dom_classes": [],
            "_model_module": "@jupyter-widgets/controls",
            "_model_module_version": "1.5.0",
            "_model_name": "HTMLModel",
            "_view_count": null,
            "_view_module": "@jupyter-widgets/controls",
            "_view_module_version": "1.5.0",
            "_view_name": "HTMLView",
            "description": "",
            "description_tooltip": null,
            "layout": "IPY_MODEL_a0820b1e97964f7c9607eb411084e351",
            "placeholder": "​",
            "style": "IPY_MODEL_cca192b4686c4b2bab8cdc2852eda2ec",
            "value": " 23261/23262 [00:02&lt;00:00, 7974.89 examples/s]"
          }
        },
        "392fd66dc2e249ca91f0bfc94e73251c": {
          "model_module": "@jupyter-widgets/base",
          "model_name": "LayoutModel",
          "model_module_version": "1.2.0",
          "state": {
            "_model_module": "@jupyter-widgets/base",
            "_model_module_version": "1.2.0",
            "_model_name": "LayoutModel",
            "_view_count": null,
            "_view_module": "@jupyter-widgets/base",
            "_view_module_version": "1.2.0",
            "_view_name": "LayoutView",
            "align_content": null,
            "align_items": null,
            "align_self": null,
            "border": null,
            "bottom": null,
            "display": null,
            "flex": null,
            "flex_flow": null,
            "grid_area": null,
            "grid_auto_columns": null,
            "grid_auto_flow": null,
            "grid_auto_rows": null,
            "grid_column": null,
            "grid_gap": null,
            "grid_row": null,
            "grid_template_areas": null,
            "grid_template_columns": null,
            "grid_template_rows": null,
            "height": null,
            "justify_content": null,
            "justify_items": null,
            "left": null,
            "margin": null,
            "max_height": null,
            "max_width": null,
            "min_height": null,
            "min_width": null,
            "object_fit": null,
            "object_position": null,
            "order": null,
            "overflow": null,
            "overflow_x": null,
            "overflow_y": null,
            "padding": null,
            "right": null,
            "top": null,
            "visibility": null,
            "width": null
          }
        },
        "973d617212654461a56250e38d5dcd54": {
          "model_module": "@jupyter-widgets/base",
          "model_name": "LayoutModel",
          "model_module_version": "1.2.0",
          "state": {
            "_model_module": "@jupyter-widgets/base",
            "_model_module_version": "1.2.0",
            "_model_name": "LayoutModel",
            "_view_count": null,
            "_view_module": "@jupyter-widgets/base",
            "_view_module_version": "1.2.0",
            "_view_name": "LayoutView",
            "align_content": null,
            "align_items": null,
            "align_self": null,
            "border": null,
            "bottom": null,
            "display": null,
            "flex": null,
            "flex_flow": null,
            "grid_area": null,
            "grid_auto_columns": null,
            "grid_auto_flow": null,
            "grid_auto_rows": null,
            "grid_column": null,
            "grid_gap": null,
            "grid_row": null,
            "grid_template_areas": null,
            "grid_template_columns": null,
            "grid_template_rows": null,
            "height": null,
            "justify_content": null,
            "justify_items": null,
            "left": null,
            "margin": null,
            "max_height": null,
            "max_width": null,
            "min_height": null,
            "min_width": null,
            "object_fit": null,
            "object_position": null,
            "order": null,
            "overflow": null,
            "overflow_x": null,
            "overflow_y": null,
            "padding": null,
            "right": null,
            "top": null,
            "visibility": null,
            "width": null
          }
        },
        "695d10ae63034271b41e4d0e77bd3176": {
          "model_module": "@jupyter-widgets/controls",
          "model_name": "DescriptionStyleModel",
          "model_module_version": "1.5.0",
          "state": {
            "_model_module": "@jupyter-widgets/controls",
            "_model_module_version": "1.5.0",
            "_model_name": "DescriptionStyleModel",
            "_view_count": null,
            "_view_module": "@jupyter-widgets/base",
            "_view_module_version": "1.2.0",
            "_view_name": "StyleView",
            "description_width": ""
          }
        },
        "22c8e65f3ad64697b61963e0c55d998a": {
          "model_module": "@jupyter-widgets/base",
          "model_name": "LayoutModel",
          "model_module_version": "1.2.0",
          "state": {
            "_model_module": "@jupyter-widgets/base",
            "_model_module_version": "1.2.0",
            "_model_name": "LayoutModel",
            "_view_count": null,
            "_view_module": "@jupyter-widgets/base",
            "_view_module_version": "1.2.0",
            "_view_name": "LayoutView",
            "align_content": null,
            "align_items": null,
            "align_self": null,
            "border": null,
            "bottom": null,
            "display": null,
            "flex": null,
            "flex_flow": null,
            "grid_area": null,
            "grid_auto_columns": null,
            "grid_auto_flow": null,
            "grid_auto_rows": null,
            "grid_column": null,
            "grid_gap": null,
            "grid_row": null,
            "grid_template_areas": null,
            "grid_template_columns": null,
            "grid_template_rows": null,
            "height": null,
            "justify_content": null,
            "justify_items": null,
            "left": null,
            "margin": null,
            "max_height": null,
            "max_width": null,
            "min_height": null,
            "min_width": null,
            "object_fit": null,
            "object_position": null,
            "order": null,
            "overflow": null,
            "overflow_x": null,
            "overflow_y": null,
            "padding": null,
            "right": null,
            "top": null,
            "visibility": null,
            "width": null
          }
        },
        "ac4f4bdbdfd648a5a0e4577036e68a40": {
          "model_module": "@jupyter-widgets/controls",
          "model_name": "ProgressStyleModel",
          "model_module_version": "1.5.0",
          "state": {
            "_model_module": "@jupyter-widgets/controls",
            "_model_module_version": "1.5.0",
            "_model_name": "ProgressStyleModel",
            "_view_count": null,
            "_view_module": "@jupyter-widgets/base",
            "_view_module_version": "1.2.0",
            "_view_name": "StyleView",
            "bar_color": null,
            "description_width": ""
          }
        },
        "a0820b1e97964f7c9607eb411084e351": {
          "model_module": "@jupyter-widgets/base",
          "model_name": "LayoutModel",
          "model_module_version": "1.2.0",
          "state": {
            "_model_module": "@jupyter-widgets/base",
            "_model_module_version": "1.2.0",
            "_model_name": "LayoutModel",
            "_view_count": null,
            "_view_module": "@jupyter-widgets/base",
            "_view_module_version": "1.2.0",
            "_view_name": "LayoutView",
            "align_content": null,
            "align_items": null,
            "align_self": null,
            "border": null,
            "bottom": null,
            "display": null,
            "flex": null,
            "flex_flow": null,
            "grid_area": null,
            "grid_auto_columns": null,
            "grid_auto_flow": null,
            "grid_auto_rows": null,
            "grid_column": null,
            "grid_gap": null,
            "grid_row": null,
            "grid_template_areas": null,
            "grid_template_columns": null,
            "grid_template_rows": null,
            "height": null,
            "justify_content": null,
            "justify_items": null,
            "left": null,
            "margin": null,
            "max_height": null,
            "max_width": null,
            "min_height": null,
            "min_width": null,
            "object_fit": null,
            "object_position": null,
            "order": null,
            "overflow": null,
            "overflow_x": null,
            "overflow_y": null,
            "padding": null,
            "right": null,
            "top": null,
            "visibility": null,
            "width": null
          }
        },
        "cca192b4686c4b2bab8cdc2852eda2ec": {
          "model_module": "@jupyter-widgets/controls",
          "model_name": "DescriptionStyleModel",
          "model_module_version": "1.5.0",
          "state": {
            "_model_module": "@jupyter-widgets/controls",
            "_model_module_version": "1.5.0",
            "_model_name": "DescriptionStyleModel",
            "_view_count": null,
            "_view_module": "@jupyter-widgets/base",
            "_view_module_version": "1.2.0",
            "_view_name": "StyleView",
            "description_width": ""
          }
        }
      }
    }
  },
  "cells": [
    {
      "cell_type": "markdown",
      "metadata": {
        "id": "view-in-github",
        "colab_type": "text"
      },
      "source": [
        "<a href=\"https://colab.research.google.com/github/kkleong17/ADS-assignment/blob/main/ADS2_3rd_assignment_kit_sem_2.ipynb\" target=\"_parent\"><img src=\"https://colab.research.google.com/assets/colab-badge.svg\" alt=\"Open In Colab\"/></a>"
      ]
    },
    {
      "cell_type": "markdown",
      "source": [
        "# Assignment 3 - End-to-End Optimisation\n",
        "\n",
        "The notebook you have been provided contains code for a convolutional neural network and an image pre-processing and augmentation pipeline. The network and data pipeline are poorly optimised. Your task for this assignment is to analyse the performance of the network, in terms of training speed and the quality of the results, and then make improvements to the network based on your findings.\n",
        "\n",
        "You will be training the model on the Cats vs Dogs dataset we have previously seen in the tutorials. The pipeline has a preprocessing function that performs some data augmentation. Consider how the pipeline can be made more efficient, use the Tensorboard Profiler tool to help—note you only need to profile a couple of batches, not the full training process.\n",
        "\n",
        "The CNN uses a VGGNet architechture, built up with blocks of convolutional layers and maxpooling layers. Consider the settings of the existing layers, and whether additional layers can be added to improve the model accuracy, speed up learning, and tackle issues like over fitting. Research decisions around activation functions, optimiser settings.\n",
        "\n",
        "Train the model as is at least once, and analyse the results—to speed up the notebook for future runs, you can save the weights and reload them to perform analysis. If you do save trhe weights, be sure to download them or store them in your google drive for easy access later on. The initial model could take up to an hour to run, so plan your time ahead.\n",
        "\n",
        "You should create plots of the loss and metric curves, and to demonstrate the predictive capabilities of the model—think about what types of images the model is getting correct and what it is getting wrong.\n",
        "\n",
        "You might want to add in callbacks to control modify training, but this isn't strictly necessary. \n",
        "\n",
        "(I can't stress enough that this model and pipeline are *bad* and that is deliberate. It should just about learn *something* with no changes, but it won't do a good job. You can change anything in the code below, except for the block that loads the dataset—no training the model on a different set of images.)"
      ],
      "metadata": {
        "id": "Me0BtBWiFuod"
      }
    },
    {
      "cell_type": "markdown",
      "source": [
        "# Exercise 1 (10 marks)\n",
        "\n",
        "Train the network and plot the resulting loss functions and metrics. Create plots that demonstrate the predictive results of the network. Comment on these results in your report. If you are worried about space in your report, you can number your plots inside the notebook and refer to those numbers in the text."
      ],
      "metadata": {
        "id": "pg9xV3ail44p"
      }
    },
    {
      "cell_type": "code",
      "source": [
        "# Install the tensorflow addons package,\n",
        "# which has a nice image rotation function\n",
        "!pip install tensorflow-addons"
      ],
      "metadata": {
        "id": "Y1M3Fpb71Ar7",
        "colab": {
          "base_uri": "https://localhost:8080/"
        },
        "outputId": "67bffadf-9175-4d86-fb26-57a094c77797"
      },
      "execution_count": null,
      "outputs": [
        {
          "output_type": "stream",
          "name": "stdout",
          "text": [
            "Requirement already satisfied: tensorflow-addons in /usr/local/lib/python3.7/dist-packages (0.16.1)\n",
            "Requirement already satisfied: typeguard>=2.7 in /usr/local/lib/python3.7/dist-packages (from tensorflow-addons) (2.7.1)\n"
          ]
        }
      ]
    },
    {
      "cell_type": "code",
      "source": [
        "# Import modules\n",
        "import tensorflow as tf\n",
        "from tensorflow import keras\n",
        "from tensorflow.keras import layers\n",
        "from tensorflow.keras.models import Sequential\n",
        "import tensorflow_datasets as tfds\n",
        "import tensorflow_addons as tfa\n",
        "import matplotlib.pyplot as plt\n",
        "\n",
        "import numpy as np"
      ],
      "metadata": {
        "id": "4Eaj7pBSjH-G"
      },
      "execution_count": null,
      "outputs": []
    },
    {
      "cell_type": "code",
      "execution_count": null,
      "metadata": {
        "id": "LkU0EFXChMR_"
      },
      "outputs": [],
      "source": [
        "# Define some Important Variables\n",
        "IMG_SIZE = (128,128)\n",
        "BATCH_SIZE = 64\n",
        "EPOCHS = 20"
      ]
    },
    {
      "cell_type": "code",
      "source": [
        "# Preprocessing functions. We split the resizing and augmentation so that\n",
        "# we can apply the augmentation only to the training data\n",
        "def img_augment(image, label):\n",
        "    \n",
        "    # Random left right flip\n",
        "    image = tf.image.random_flip_left_right(image)\n",
        "    # Use tensorflow addons to randomly rotate images\n",
        "    deg = np.random.uniform(-20,20)\n",
        "    image = tfa.image.rotate(image, deg)\n",
        "    image = tf.cast(image, 'float32')/255.\n",
        "\n",
        "    return image, label\n",
        "\n",
        "def img_resize(image, label):\n",
        "    # Resize the images\n",
        "    image = tf.image.resize(image, IMG_SIZE)\n",
        "    return image, label\n"
      ],
      "metadata": {
        "id": "KNL1FcdKlOuQ"
      },
      "execution_count": null,
      "outputs": []
    },
    {
      "cell_type": "code",
      "source": [
        "# Load the cats vs dogs dataset\n",
        "\n",
        "### DONT CHANGE ME ###\n",
        "train_ds, validation_ds, test_ds = tfds.load(\n",
        "    \"cats_vs_dogs\",\n",
        "    # Reserve 10% for validation and 10% for test\n",
        "    split=[\"train[:80%]\", \"train[80%:90%]\", \"train[90%:100%]\"],\n",
        "    as_supervised=True,  # Include labels\n",
        ")\n",
        "### DONT CHANGE ME ###\n",
        "\n",
        "# Set up the datasets with the augmentations and resizing\n",
        "train_ds = train_ds.map(img_augment).map(img_resize).batch(BATCH_SIZE)\n",
        "validation_ds = validation_ds.map(img_resize).batch(BATCH_SIZE)\n",
        "test_ds = test_ds.map(img_resize).batch(BATCH_SIZE)"
      ],
      "metadata": {
        "id": "6X_ZOioLjA2t",
        "colab": {
          "base_uri": "https://localhost:8080/",
          "height": 217,
          "referenced_widgets": [
            "d3099edbac064f098efbc6ed789b6683",
            "6120a7ea64214c90a445c2d814cbe85b",
            "e8b8cb5a1efa4a229a9b6fa297e5dc84",
            "274dd50acf64425db6baabe895fe98fa",
            "7e178e5d4ae247499ef2267b8d369121",
            "ad27de7ab2354c19b7f8344e9cec5e6e",
            "005ab4eac07a4cc1a19f94fefbd737a6",
            "3452a9102d3b4b7cbcd5738eef2e1d20",
            "866350dd61504740a2b651ab9fbad7fc",
            "c43a1efdd23e47ab969fa58c26a23c72",
            "a28d3560939846e3b54f788624b3ab7e",
            "88e43fe919b1470895f49ad00db89383",
            "0e18a9c05c1949a3a1184648f69e25ed",
            "c3d48a5f36094f24a1193974050504a8",
            "ca38ca476cf746b6bdf63b431647b0bf",
            "841ffd5c35184f1d8e77b750a59b01b8",
            "ab2256413d8e49b0b67bb7b4228224ad",
            "4430a66d033c46c486ceef91a0df55f9",
            "0f3bb58af0c947b9ba5ca34c02673be3",
            "9c81708db42f4745ae9626a41b7820af",
            "a7331b4e99e540039fdd6e9c738d0daa",
            "da365ce424734a40bd75ec61e6ba66d8",
            "717fa0591be34c77997d31301be267f9",
            "6cebde6931344aa2be2949199a8a0660",
            "75d8eabf79214e92b8589b84fba4f173",
            "e16cae5261d14679b9106a063d69dfb7",
            "4d99c8fbee6b40de817b518bb5a1185f",
            "b6e8950acbd3468c9a7660dd4b72cfd1",
            "fdf51b22e8b14975bc1503a50e74f457",
            "6694d6aa6be946b6bd31dcb8f46845ca",
            "901102e6a93645f890bbe780fa3b7703",
            "0eae8fe0ca244fc785df59f6bfb96e35",
            "89dd0c7eb56048f797104b0a8fe8d842",
            "d8e08f7aeb95466581e6d94a362f7ff8",
            "2545f615b4d9488386191f4de308eed3",
            "1b2340600d1946c5957aa3824c788c6e",
            "451ec9f55e9647c288cdbcb13d74d587",
            "392fd66dc2e249ca91f0bfc94e73251c",
            "973d617212654461a56250e38d5dcd54",
            "695d10ae63034271b41e4d0e77bd3176",
            "22c8e65f3ad64697b61963e0c55d998a",
            "ac4f4bdbdfd648a5a0e4577036e68a40",
            "a0820b1e97964f7c9607eb411084e351",
            "cca192b4686c4b2bab8cdc2852eda2ec"
          ]
        },
        "outputId": "d2b332b2-c00f-4006-fa52-bdffc13c9630"
      },
      "execution_count": null,
      "outputs": [
        {
          "output_type": "stream",
          "name": "stdout",
          "text": [
            "\u001b[1mDownloading and preparing dataset cats_vs_dogs/4.0.0 (download: 786.68 MiB, generated: Unknown size, total: 786.68 MiB) to /root/tensorflow_datasets/cats_vs_dogs/4.0.0...\u001b[0m\n"
          ]
        },
        {
          "output_type": "display_data",
          "data": {
            "text/plain": [
              "Dl Completed...: 0 url [00:00, ? url/s]"
            ],
            "application/vnd.jupyter.widget-view+json": {
              "version_major": 2,
              "version_minor": 0,
              "model_id": "d3099edbac064f098efbc6ed789b6683"
            }
          },
          "metadata": {}
        },
        {
          "output_type": "display_data",
          "data": {
            "text/plain": [
              "Dl Size...: 0 MiB [00:00, ? MiB/s]"
            ],
            "application/vnd.jupyter.widget-view+json": {
              "version_major": 2,
              "version_minor": 0,
              "model_id": "88e43fe919b1470895f49ad00db89383"
            }
          },
          "metadata": {}
        },
        {
          "output_type": "stream",
          "name": "stdout",
          "text": [
            "\n",
            "\n"
          ]
        },
        {
          "output_type": "display_data",
          "data": {
            "text/plain": [
              "0 examples [00:00, ? examples/s]"
            ],
            "application/vnd.jupyter.widget-view+json": {
              "version_major": 2,
              "version_minor": 0,
              "model_id": "717fa0591be34c77997d31301be267f9"
            }
          },
          "metadata": {}
        },
        {
          "output_type": "stream",
          "name": "stderr",
          "text": [
            "WARNING:absl:1738 images were corrupted and were skipped\n"
          ]
        },
        {
          "output_type": "stream",
          "name": "stdout",
          "text": [
            "Shuffling and writing examples to /root/tensorflow_datasets/cats_vs_dogs/4.0.0.incomplete76FUIA/cats_vs_dogs-train.tfrecord\n"
          ]
        },
        {
          "output_type": "display_data",
          "data": {
            "text/plain": [
              "  0%|          | 0/23262 [00:00<?, ? examples/s]"
            ],
            "application/vnd.jupyter.widget-view+json": {
              "version_major": 2,
              "version_minor": 0,
              "model_id": "d8e08f7aeb95466581e6d94a362f7ff8"
            }
          },
          "metadata": {}
        },
        {
          "output_type": "stream",
          "name": "stdout",
          "text": [
            "\u001b[1mDataset cats_vs_dogs downloaded and prepared to /root/tensorflow_datasets/cats_vs_dogs/4.0.0. Subsequent calls will reuse this data.\u001b[0m\n"
          ]
        }
      ]
    },
    {
      "cell_type": "code",
      "source": [
        "# Sequential Model Definition\n",
        "def create_model_unoptimised():\n",
        "    model = Sequential([\n",
        "    layers.Input(shape=IMG_SIZE+(3,), name='Input'),\n",
        "    layers.Conv2D(16, 5, padding='same', activation='relu',\n",
        "                    name='Conv_1'),\n",
        "    layers.MaxPooling2D(name='Pool_1'),\n",
        "    layers.Conv2D(32, 4, padding='same', activation='relu', #added a new conv2d\n",
        "                    name='Conv_2'),\n",
        "    layers.MaxPooling2D(name='Pool_2'),\n",
        "    layers.Conv2D(128, 3, padding='same', activation='relu',\n",
        "                    name='Conv_3'),\n",
        "    layers.MaxPooling2D(name='Pool_3'),\n",
        "    layers.Flatten(name='Flatten'),\n",
        "    layers.Dense(512, activation='relu', name='dense_1'),\n",
        "    layers.Dense(1, activation='sigmoid', name='Output')\n",
        "    ], name='CNN')\n",
        "\n",
        "    return model"
      ],
      "metadata": {
        "id": "MOBuSzxRiusF"
      },
      "execution_count": null,
      "outputs": []
    },
    {
      "cell_type": "code",
      "source": [
        "# Create a version of the model and print the summary\n",
        "model = create_model_unoptimised()\n",
        "\n",
        "model.summary()"
      ],
      "metadata": {
        "id": "-NiZ4uoKnJcm",
        "colab": {
          "base_uri": "https://localhost:8080/"
        },
        "outputId": "5167dba8-5a25-46ca-e419-678525f0419b"
      },
      "execution_count": null,
      "outputs": [
        {
          "output_type": "stream",
          "name": "stdout",
          "text": [
            "Model: \"CNN\"\n",
            "_________________________________________________________________\n",
            " Layer (type)                Output Shape              Param #   \n",
            "=================================================================\n",
            " Conv_1 (Conv2D)             (None, 128, 128, 16)      1216      \n",
            "                                                                 \n",
            " Pool_1 (MaxPooling2D)       (None, 64, 64, 16)        0         \n",
            "                                                                 \n",
            " Conv_2 (Conv2D)             (None, 64, 64, 32)        8224      \n",
            "                                                                 \n",
            " Pool_2 (MaxPooling2D)       (None, 32, 32, 32)        0         \n",
            "                                                                 \n",
            " Conv_3 (Conv2D)             (None, 32, 32, 128)       36992     \n",
            "                                                                 \n",
            " Pool_3 (MaxPooling2D)       (None, 16, 16, 128)       0         \n",
            "                                                                 \n",
            " Flatten (Flatten)           (None, 32768)             0         \n",
            "                                                                 \n",
            " dense_1 (Dense)             (None, 512)               16777728  \n",
            "                                                                 \n",
            " Output (Dense)              (None, 1)                 513       \n",
            "                                                                 \n",
            "=================================================================\n",
            "Total params: 16,824,673\n",
            "Trainable params: 16,824,673\n",
            "Non-trainable params: 0\n",
            "_________________________________________________________________\n"
          ]
        }
      ]
    },
    {
      "cell_type": "code",
      "source": [
        "# Adam optimiser\n",
        "opt = tf.keras.optimizers.Adam(learning_rate=1e-4)\n",
        "# Binary classification loss\n",
        "loss_obj = tf.keras.losses.BinaryCrossentropy(from_logits=False)\n",
        "# Accuracy metric\n",
        "metrics = ['accuracy']\n",
        "\n",
        "# Compile model\n",
        "model.compile(optimizer=opt,\n",
        "              loss=loss_obj,\n",
        "              metrics=metrics)\n"
      ],
      "metadata": {
        "id": "k1U1i8YSi5Zt"
      },
      "execution_count": null,
      "outputs": []
    },
    {
      "cell_type": "code",
      "source": [
        "# Train the Model\n",
        "\n",
        "\n",
        "history = model.fit(train_ds,\n",
        "                    validation_data=validation_ds,\n",
        "                    epochs=EPOCHS)\n"
      ],
      "metadata": {
        "id": "187JJxGJi6IU",
        "colab": {
          "base_uri": "https://localhost:8080/"
        },
        "outputId": "d3e80587-b642-467a-fa08-03bc8e194249"
      },
      "execution_count": null,
      "outputs": [
        {
          "output_type": "stream",
          "name": "stdout",
          "text": [
            "Epoch 1/20\n",
            "291/291 [==============================] - 233s 762ms/step - loss: 0.6391 - accuracy: 0.6222 - val_loss: 159.1463 - val_accuracy: 0.5258\n",
            "Epoch 2/20\n",
            "291/291 [==============================] - 222s 761ms/step - loss: 0.5575 - accuracy: 0.7155 - val_loss: 160.7549 - val_accuracy: 0.5400\n",
            "Epoch 3/20\n",
            "291/291 [==============================] - 222s 764ms/step - loss: 0.5214 - accuracy: 0.7435 - val_loss: 144.9251 - val_accuracy: 0.5542\n",
            "Epoch 4/20\n",
            "291/291 [==============================] - 224s 769ms/step - loss: 0.4915 - accuracy: 0.7629 - val_loss: 157.9488 - val_accuracy: 0.5623\n",
            "Epoch 5/20\n",
            "291/291 [==============================] - 223s 765ms/step - loss: 0.4693 - accuracy: 0.7789 - val_loss: 167.4424 - val_accuracy: 0.5658\n",
            "Epoch 6/20\n",
            "291/291 [==============================] - 223s 767ms/step - loss: 0.4501 - accuracy: 0.7922 - val_loss: 162.7377 - val_accuracy: 0.5735\n",
            "Epoch 7/20\n",
            "291/291 [==============================] - 222s 763ms/step - loss: 0.4327 - accuracy: 0.8035 - val_loss: 159.5420 - val_accuracy: 0.5825\n",
            "Epoch 8/20\n",
            "291/291 [==============================] - 223s 764ms/step - loss: 0.4199 - accuracy: 0.8095 - val_loss: 138.8474 - val_accuracy: 0.6131\n",
            "Epoch 9/20\n",
            "291/291 [==============================] - 223s 766ms/step - loss: 0.4028 - accuracy: 0.8185 - val_loss: 180.7597 - val_accuracy: 0.5787\n",
            "Epoch 10/20\n",
            "291/291 [==============================] - 223s 764ms/step - loss: 0.3974 - accuracy: 0.8227 - val_loss: 173.9901 - val_accuracy: 0.5873\n",
            "Epoch 11/20\n",
            "291/291 [==============================] - 226s 776ms/step - loss: 0.3857 - accuracy: 0.8308 - val_loss: 155.3940 - val_accuracy: 0.6019\n",
            "Epoch 12/20\n",
            "291/291 [==============================] - 223s 766ms/step - loss: 0.3722 - accuracy: 0.8364 - val_loss: 163.0699 - val_accuracy: 0.5997\n",
            "Epoch 13/20\n",
            "291/291 [==============================] - 223s 766ms/step - loss: 0.3612 - accuracy: 0.8433 - val_loss: 165.2661 - val_accuracy: 0.6088\n",
            "Epoch 14/20\n",
            "291/291 [==============================] - 239s 821ms/step - loss: 0.3518 - accuracy: 0.8487 - val_loss: 182.2871 - val_accuracy: 0.6023\n",
            "Epoch 15/20\n",
            "291/291 [==============================] - 223s 768ms/step - loss: 0.3385 - accuracy: 0.8565 - val_loss: 192.3284 - val_accuracy: 0.5929\n",
            "Epoch 16/20\n",
            "291/291 [==============================] - 221s 761ms/step - loss: 0.3279 - accuracy: 0.8604 - val_loss: 187.5300 - val_accuracy: 0.6083\n",
            "Epoch 17/20\n",
            "291/291 [==============================] - 221s 759ms/step - loss: 0.3186 - accuracy: 0.8649 - val_loss: 198.4750 - val_accuracy: 0.5985\n",
            "Epoch 18/20\n",
            "291/291 [==============================] - 222s 763ms/step - loss: 0.3102 - accuracy: 0.8687 - val_loss: 214.5906 - val_accuracy: 0.5856\n",
            "Epoch 19/20\n",
            "291/291 [==============================] - 222s 761ms/step - loss: 0.2995 - accuracy: 0.8767 - val_loss: 207.4648 - val_accuracy: 0.6010\n",
            "Epoch 20/20\n",
            "291/291 [==============================] - 223s 765ms/step - loss: 0.2906 - accuracy: 0.8811 - val_loss: 193.3340 - val_accuracy: 0.6230\n"
          ]
        }
      ]
    },
    {
      "cell_type": "code",
      "source": [
        "f, ax = plt.subplots(1,2, figsize = (10,5))\n",
        "\n",
        "ax[0].plot(history.history['loss'], label = 'loss')\n",
        "ax[0].plot(history.history['val_loss'], label = 'validate loss') #code taken from tutorial 8 modified\n",
        "ax[0].set_ylabel('Model Loss')\n",
        "ax[0].set_xlabel('Epoch')\n",
        "\n",
        "ax[1].plot(history.history['accuracy'], label = 'Training')\n",
        "ax[1].plot(history.history['val_accuracy'], label = 'Validation')\n",
        "ax[1].set_ylabel('Model Accuracy')\n",
        "ax[1].set_xlabel('Epoch')\n",
        "\n",
        "\n",
        "ax[0].legend()\n",
        "plt.legend()\n",
        "plt.show()"
      ],
      "metadata": {
        "colab": {
          "base_uri": "https://localhost:8080/",
          "height": 334
        },
        "id": "6BnhE73nrLLX",
        "outputId": "b87132bf-68e3-48d9-c7d3-46bdf91770b2"
      },
      "execution_count": null,
      "outputs": [
        {
          "output_type": "display_data",
          "data": {
            "text/plain": [
              "<Figure size 720x360 with 2 Axes>"
            ],
            "image/png": "[encoded data removed]"
          },
          "metadata": {
            "needs_background": "light"
          }
        }
      ]
    },
    {
      "cell_type": "markdown",
      "source": [
        "# Exercise 2 (10 marks)\n",
        "Address the performance issues in the **image processing** pipeline, comment on the choices you make in your report.\n",
        "\n",
        "You can copy the code above and make changes, or write the piepline from scratch. This could include creating new preprocessing functions."
      ],
      "metadata": {
        "id": "WlkPaKJgmhqn"
      }
    },
    {
      "cell_type": "code",
      "source": [
        "def img_augment(image, label):\n",
        "    \n",
        "    # Random left right flip\n",
        "    image = tf.image.random_flip_left_right(image)\n",
        "    # Use tensorflow addons to randomly rotate images\n",
        "    deg = np.random.uniform(-20,20)\n",
        "    image = tfa.image.rotate(image, deg)\n",
        "    image = tf.cast(image, 'float32')/255.\n",
        "\n",
        "    return image, label\n",
        "\n",
        "def img_resize(image, label):\n",
        "    # Resize the images\n",
        "    image = tf.image.resize(image, IMG_SIZE)\n",
        "    return image, label\n",
        "\n",
        "# Load the cats vs dogs dataset (exercise 2)\n",
        "train_dss, validation_dss, test_dss = tfds.load(\n",
        "    \"cats_vs_dogs\",\n",
        "    # Reserve 10% for validation and 10% for test\n",
        "    split=[\"train[:80%]\", \"train[80%:90%]\", \"train[90%:100%]\"],\n",
        "    as_supervised=True,  \n",
        ")\n",
        "\n",
        "# Set up the datasets with the augmentations and resizing with new variables for exercise 2\n",
        "train_dss = (train_dss.map(img_augment,\n",
        "                          num_parallel_calls=tf.data.AUTOTUNE) #added a new argument data autotune\n",
        "            .prefetch(tf.data.AUTOTUNE) #added prefetch autotune\n",
        "            .map(img_resize,\n",
        "                 num_parallel_calls = tf.data.AUTOTUNE)\n",
        "            .cache() #caching to save operations\n",
        "            .batch(BATCH_SIZE) )\n",
        "\n",
        "validation_dss = validation_dss.map(img_resize).batch(BATCH_SIZE)\n",
        "\n",
        "\n",
        "test_dss = test_dss.map(img_resize).batch(BATCH_SIZE)"
      ],
      "metadata": {
        "id": "9YPfakuxlq1G"
      },
      "execution_count": null,
      "outputs": []
    },
    {
      "cell_type": "markdown",
      "source": [
        "# Exercise 3 (10 marks)\n",
        "Adjust the design of the CNN to achieve improved predictive results, comment on the choices you make in your report.\n",
        "\n",
        "You can add in new layers, change the settings of the existing layers. You could even use a different CNN architecture.\n",
        "\n",
        "Comment on any changes you make in your report, including details of any tests you performed. You might find it useful to create a new notebook specifically for testing different models, so that this notebook doesn't get too clogged up with outputs."
      ],
      "metadata": {
        "id": "YNlPJAJjnQIf"
      }
    },
    {
      "cell_type": "code",
      "source": [
        "def optimized_model():\n",
        "    models = Sequential([\n",
        "    layers.Input(shape=IMG_SIZE+(3,), name='Input'),\n",
        "    layers.Conv2D(16, 3, padding='same', activation='relu',\n",
        "                    name='Conv_1'),\n",
        "    layers.MaxPooling2D(name='Pool_1'),\n",
        "    layers.Conv2D(32, 3, padding='same', activation='relu',\n",
        "                    name='Conv_2'),\n",
        "    layers.MaxPooling2D(name='Pool_2'),\n",
        "    layers.Conv2D(64, 3, padding='same', activation='relu', # added a new conv2d\n",
        "                    name='Conv_3'),\n",
        "    layers.MaxPooling2D(name='Pool_3'),\n",
        "    layers.Conv2D(128, 3, padding='same', activation='relu',\n",
        "                    name='Conv_4'),\n",
        "\n",
        "    layers.MaxPooling2D(name='Pool_4'),\n",
        "    layers.Flatten(name='Flatten'),\n",
        "    layers.Dense(512, activation='relu', name='dense_1'),\n",
        "    layers.Dense(1, activation='sigmoid', name='Output')\n",
        "    ], name='CNN')\n",
        "\n",
        "    return models"
      ],
      "metadata": {
        "id": "R4EDkyVGoAGz"
      },
      "execution_count": null,
      "outputs": []
    },
    {
      "cell_type": "code",
      "source": [
        "second_model = optimized_model()\n",
        "\n",
        "second_model.summary()"
      ],
      "metadata": {
        "colab": {
          "base_uri": "https://localhost:8080/"
        },
        "id": "7YXf7TbiqrOw",
        "outputId": "4acb0790-3357-4b42-8fbd-4b8181a6792d"
      },
      "execution_count": null,
      "outputs": [
        {
          "output_type": "stream",
          "name": "stdout",
          "text": [
            "Model: \"CNN\"\n",
            "_________________________________________________________________\n",
            " Layer (type)                Output Shape              Param #   \n",
            "=================================================================\n",
            " Conv_1 (Conv2D)             (None, 128, 128, 16)      448       \n",
            "                                                                 \n",
            " Pool_1 (MaxPooling2D)       (None, 64, 64, 16)        0         \n",
            "                                                                 \n",
            " Conv_2 (Conv2D)             (None, 64, 64, 32)        4640      \n",
            "                                                                 \n",
            " Pool_2 (MaxPooling2D)       (None, 32, 32, 32)        0         \n",
            "                                                                 \n",
            " Conv_3 (Conv2D)             (None, 32, 32, 64)        18496     \n",
            "                                                                 \n",
            " Pool_3 (MaxPooling2D)       (None, 16, 16, 64)        0         \n",
            "                                                                 \n",
            " Conv_4 (Conv2D)             (None, 16, 16, 128)       73856     \n",
            "                                                                 \n",
            " Pool_4 (MaxPooling2D)       (None, 8, 8, 128)         0         \n",
            "                                                                 \n",
            " Flatten (Flatten)           (None, 8192)              0         \n",
            "                                                                 \n",
            " dense_1 (Dense)             (None, 512)               4194816   \n",
            "                                                                 \n",
            " Output (Dense)              (None, 1)                 513       \n",
            "                                                                 \n",
            "=================================================================\n",
            "Total params: 4,292,769\n",
            "Trainable params: 4,292,769\n",
            "Non-trainable params: 0\n",
            "_________________________________________________________________\n"
          ]
        }
      ]
    },
    {
      "cell_type": "markdown",
      "source": [
        "# Exercise 4 (5 marks)\n",
        "\n",
        "Change the settings used in training the network to improve both the training speed and predictive results.\n",
        "\n",
        "Consider how you might compile the model with different settings, how many epochs the model needs to be trained for, how learning rates and batch sizes might affect training."
      ],
      "metadata": {
        "id": "FtHjLdK3oAcD"
      }
    },
    {
      "cell_type": "code",
      "source": [
        "# Compile model\n",
        "second_model.compile(optimizer=tf.keras.optimizers.Nadam(learning_rate=0.001), #optimizer nesterov adam \n",
        "            loss=tf.keras.losses.BinaryCrossentropy(), \n",
        "            metrics=['accuracy'] \n",
        "            )\n"
      ],
      "metadata": {
        "id": "OiDKVMDboT5K"
      },
      "execution_count": null,
      "outputs": []
    },
    {
      "cell_type": "markdown",
      "source": [
        "# Exercise 5 (10 marks)\n",
        "\n",
        "Train the new network, and repeat the analysis performed in the first step. Comment in your report how the changes you made have improved the speed and performance of the network."
      ],
      "metadata": {
        "id": "p_9fTMDRoUUB"
      }
    },
    {
      "cell_type": "code",
      "source": [
        "history_second = second_model.fit(train_dss,\n",
        "                                  batch_size = 64, #added batch size\n",
        "                                  validation_data=validation_dss,\n",
        "                                  epochs=20\n",
        "                                  )\n"
      ],
      "metadata": {
        "id": "k5z-7zYCodC5",
        "colab": {
          "base_uri": "https://localhost:8080/"
        },
        "outputId": "eb81ef2a-acdd-48da-bcc7-cc08a023b0fb"
      },
      "execution_count": null,
      "outputs": [
        {
          "output_type": "stream",
          "name": "stdout",
          "text": [
            "Epoch 1/20\n",
            "291/291 [==============================] - 185s 626ms/step - loss: 0.6515 - accuracy: 0.6136 - val_loss: 56.7563 - val_accuracy: 0.6328\n",
            "Epoch 2/20\n",
            "291/291 [==============================] - 19s 65ms/step - loss: 0.5147 - accuracy: 0.7441 - val_loss: 87.1766 - val_accuracy: 0.6629\n",
            "Epoch 3/20\n",
            "291/291 [==============================] - 19s 65ms/step - loss: 0.4181 - accuracy: 0.8107 - val_loss: 95.7552 - val_accuracy: 0.6539\n",
            "Epoch 4/20\n",
            "291/291 [==============================] - 19s 64ms/step - loss: 0.3426 - accuracy: 0.8505 - val_loss: 125.6548 - val_accuracy: 0.6483\n",
            "Epoch 5/20\n",
            "291/291 [==============================] - 19s 65ms/step - loss: 0.2795 - accuracy: 0.8792 - val_loss: 129.9801 - val_accuracy: 0.6346\n",
            "Epoch 6/20\n",
            "291/291 [==============================] - 19s 65ms/step - loss: 0.2121 - accuracy: 0.9128 - val_loss: 188.7849 - val_accuracy: 0.6419\n",
            "Epoch 7/20\n",
            "291/291 [==============================] - 19s 64ms/step - loss: 0.1539 - accuracy: 0.9405 - val_loss: 239.7816 - val_accuracy: 0.6204\n",
            "Epoch 8/20\n",
            "291/291 [==============================] - 19s 65ms/step - loss: 0.1062 - accuracy: 0.9599 - val_loss: 325.5822 - val_accuracy: 0.6406\n",
            "Epoch 9/20\n",
            "291/291 [==============================] - 19s 65ms/step - loss: 0.0752 - accuracy: 0.9731 - val_loss: 364.0210 - val_accuracy: 0.6496\n",
            "Epoch 10/20\n",
            "291/291 [==============================] - 19s 64ms/step - loss: 0.0601 - accuracy: 0.9791 - val_loss: 330.5726 - val_accuracy: 0.6419\n",
            "Epoch 11/20\n",
            "291/291 [==============================] - 19s 65ms/step - loss: 0.0515 - accuracy: 0.9814 - val_loss: 408.8798 - val_accuracy: 0.6475\n",
            "Epoch 12/20\n",
            "291/291 [==============================] - 19s 64ms/step - loss: 0.0416 - accuracy: 0.9858 - val_loss: 394.0095 - val_accuracy: 0.6647\n",
            "Epoch 13/20\n",
            "291/291 [==============================] - 19s 64ms/step - loss: 0.0297 - accuracy: 0.9907 - val_loss: 407.7878 - val_accuracy: 0.6582\n",
            "Epoch 14/20\n",
            "291/291 [==============================] - 19s 65ms/step - loss: 0.0219 - accuracy: 0.9925 - val_loss: 468.9970 - val_accuracy: 0.6690\n",
            "Epoch 15/20\n",
            "291/291 [==============================] - 19s 66ms/step - loss: 0.0257 - accuracy: 0.9908 - val_loss: 482.7614 - val_accuracy: 0.6410\n",
            "Epoch 16/20\n",
            "291/291 [==============================] - 19s 64ms/step - loss: 0.0293 - accuracy: 0.9897 - val_loss: 566.3389 - val_accuracy: 0.6359\n",
            "Epoch 17/20\n",
            "291/291 [==============================] - 19s 65ms/step - loss: 0.0203 - accuracy: 0.9927 - val_loss: 528.0931 - val_accuracy: 0.6470\n",
            "Epoch 18/20\n",
            "291/291 [==============================] - 19s 64ms/step - loss: 0.0198 - accuracy: 0.9933 - val_loss: 522.6348 - val_accuracy: 0.6574\n",
            "Epoch 19/20\n",
            "291/291 [==============================] - 19s 65ms/step - loss: 0.0179 - accuracy: 0.9933 - val_loss: 547.3221 - val_accuracy: 0.6526\n",
            "Epoch 20/20\n",
            "291/291 [==============================] - 19s 64ms/step - loss: 0.0173 - accuracy: 0.9940 - val_loss: 499.3917 - val_accuracy: 0.6513\n"
          ]
        }
      ]
    },
    {
      "cell_type": "code",
      "source": [
        "fs, axs = plt.subplots(1,2, figsize = (10,5))\n",
        "\n",
        "axs[0].plot(history_second.history['loss'], label = 'loss')\n",
        "axs[0].plot(history_second.history['val_loss'], label = 'validate loss') #code taken from tutorial 8 modified\n",
        "axs[0].set_ylabel('Model Loss')\n",
        "axs[0].set_xlabel('Epoch')\n",
        "\n",
        "axs[1].plot(history_second.history['accuracy'], label = 'Training')\n",
        "axs[1].plot(history_second.history['val_accuracy'], label = 'Validation')\n",
        "axs[1].set_ylabel('Model Accuracy')\n",
        "axs[1].set_xlabel('Epoch')\n",
        "\n",
        "\n",
        "axs[0].legend()\n",
        "plt.legend()\n",
        "plt.show()"
      ],
      "metadata": {
        "colab": {
          "base_uri": "https://localhost:8080/",
          "height": 334
        },
        "id": "bVlEVAFnrCqh",
        "outputId": "8410d5ba-9f81-449d-fa39-884fc35b243e"
      },
      "execution_count": null,
      "outputs": [
        {
          "output_type": "display_data",
          "data": {
            "text/plain": [
              "<Figure size 720x360 with 2 Axes>"
            ],
            "image/png": "[encoded data removed]"
          },
          "metadata": {
            "needs_background": "light"
          }
        }
      ]
    },
    {
      "cell_type": "code",
      "source": [],
      "metadata": {
        "id": "UUFejesgwQMW"
      },
      "execution_count": null,
      "outputs": []
    }
  ]
}